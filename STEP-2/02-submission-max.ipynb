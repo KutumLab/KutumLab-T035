{
 "cells": [
  {
   "cell_type": "code",
   "execution_count": null,
   "id": "a507011b",
   "metadata": {},
   "outputs": [],
   "source": [
    "import pandas as pd\n",
    "import numpy as np\n",
    "from xgboost import XGBClassifier\n",
    "import pickle as pkl\n",
    "from tqdm import tqdm\n",
    "from typing import List, Tuple"
   ]
  },
  {
   "cell_type": "code",
   "execution_count": null,
   "id": "0a13b86a",
   "metadata": {},
   "outputs": [],
   "source": [
    "with open(\"../model/COMBINED-5F-VAR-0-1/filt_feats_ATOMPAIR.pkl\", \"rb\") as f:\n",
    "    filt_feats_ATOMPAIR = pkl.load(f)\n",
    "with open(\"../model/COMBINED-5F-VAR-0-1/filt_feats_AVALON.pkl\", \"rb\") as f:\n",
    "    filt_feats_AVALON = pkl.load(f)\n",
    "with open(\"../model/COMBINED-5F-VAR-0-1/filt_feats_RDK.pkl\", \"rb\") as f:\n",
    "    filt_feats_RDK = pkl.load(f)\n",
    "with open(\"../model/COMBINED-5F-VAR-0-1/filt_feats_ECFP4.pkl\", \"rb\") as f:\n",
    "    filt_feats_ECFP4 = pkl.load(f)\n",
    "with open(\"../model/COMBINED-5F-VAR-0-1/filt_feats_ECFP6.pkl\", \"rb\") as f:\n",
    "    filt_feats_ECFP6 = pkl.load(f)\n",
    "with open(\"../model/COMBINED-5F-VAR-0-1/filt_feats_FCFP4.pkl\", \"rb\") as f:\n",
    "    filt_feats_FCFP4 = pkl.load(f)\n",
    "with open(\"../model/COMBINED-5F-VAR-0-1/filt_feats_FCFP6.pkl\", \"rb\") as f:\n",
    "    filt_feats_FCFP6 = pkl.load(f)\n",
    "with open(\"../model/COMBINED-5F-VAR-0-1/filt_feats_MACCS.pkl\", \"rb\") as f:\n",
    "    filt_feats_MACCS = pkl.load(f)\n",
    "with open(\"../model/COMBINED-5F-VAR-0-1/filt_feats_TOPTOR.pkl\", \"rb\") as f:\n",
    "    filt_feats_TOPTOR = pkl.load(f)"
   ]
  },
  {
   "cell_type": "code",
   "execution_count": null,
   "id": "52709b2e",
   "metadata": {},
   "outputs": [],
   "source": [
    "test_data = pd.read_parquet(\"../data/Data/Step1_TestData_Target2035.parquet\")\n",
    "test_data"
   ]
  },
  {
   "cell_type": "code",
   "execution_count": null,
   "id": "dd1bd1d2",
   "metadata": {},
   "outputs": [],
   "source": [
    "def get_df_from_feature_list_comp_indices(data, filt_feats_indices):\n",
    "    # Assumption: filt_feats_indices is a list of integer indices.\n",
    "    processed_rows = []\n",
    "    for row_str in tqdm(data, total=len(data)): # tqdm can be kept if desired\n",
    "        parts = row_str.split(',')\n",
    "        # Select elements by index\n",
    "        selected_parts = [parts[i] for i in filt_feats_indices]\n",
    "        processed_rows.append(selected_parts)\n",
    "    return pd.DataFrame(processed_rows)"
   ]
  },
  {
   "cell_type": "code",
   "execution_count": null,
   "id": "75c12f1b",
   "metadata": {},
   "outputs": [],
   "source": [
    "test_ECFP4 = get_df_from_feature_list_comp_indices(test_data[\"ECFP4\"], filt_feats_ECFP4)\n",
    "test_ECFP6 = get_df_from_feature_list_comp_indices(test_data[\"ECFP6\"], filt_feats_ECFP6)\n",
    "test_FCFP4 = get_df_from_feature_list_comp_indices(test_data[\"FCFP4\"], filt_feats_FCFP4)\n",
    "test_FCFP6 = get_df_from_feature_list_comp_indices(test_data[\"FCFP6\"], filt_feats_FCFP6)\n",
    "test_ATOMPAIR = get_df_from_feature_list_comp_indices(test_data[\"ATOMPAIR\"], filt_feats_ATOMPAIR)\n",
    "test_AVALON = get_df_from_feature_list_comp_indices(test_data[\"AVALON\"], filt_feats_AVALON)\n",
    "test_RDK = get_df_from_feature_list_comp_indices(test_data[\"RDK\"], filt_feats_RDK)\n",
    "test_MACCS = get_df_from_feature_list_comp_indices(test_data[\"MACCS\"], filt_feats_MACCS)\n",
    "test_TOPTOR = get_df_from_feature_list_comp_indices(test_data[\"TOPTOR\"], filt_feats_TOPTOR)"
   ]
  },
  {
   "cell_type": "code",
   "execution_count": null,
   "id": "eab4fee3",
   "metadata": {},
   "outputs": [],
   "source": [
    "test_ECFP4.to_csv(\"../data/Data/STep1Test/test_ECFP4.csv\", index=False)\n",
    "test_ECFP6.to_csv(\"../data/Data/STep1Test/test_ECFP6.csv\", index=False)\n",
    "test_FCFP4.to_csv(\"../data/Data/STep1Test/test_FCFP4.csv\", index=False)\n",
    "test_FCFP6.to_csv(\"../data/Data/STep1Test/test_FCFP6.csv\", index=False)\n",
    "test_ATOMPAIR.to_csv(\"../data/Data/STep1Test/test_ATOMPAIR.csv\", index=False)   \n",
    "test_AVALON.to_csv(\"../data/Data/STep1Test/test_AVALON.csv\", index=False)\n",
    "test_RDK.to_csv(\"../data/Data/STep1Test/test_RDK.csv\", index=False)\n",
    "test_MACCS.to_csv(\"../data/Data/STep1Test/test_MACCS.csv\", index=False)\n",
    "test_TOPTOR.to_csv(\"../data/Data/STep1Test/test_TOPTOR.csv\", index=False)"
   ]
  },
  {
   "cell_type": "code",
   "execution_count": null,
   "id": "b51dfa83",
   "metadata": {},
   "outputs": [],
   "source": [
    "test_ATOMPAIR.columns = [f\"ATOMPAIR_{col}\" for col in filt_feats_ATOMPAIR]\n",
    "test_AVALON.columns = [f\"AVALON_{col}\" for col in filt_feats_AVALON]\n",
    "test_RDK.columns = [f\"RDK_{col}\" for col in filt_feats_RDK]\n",
    "test_ECFP4.columns = [f\"ECFP4_{col}\" for col in filt_feats_ECFP4]\n",
    "test_ECFP6.columns = [f\"ECFP6_{col}\" for col in filt_feats_ECFP6]\n",
    "test_FCFP4.columns = [f\"FCFP4_{col}\" for col in filt_feats_FCFP4]\n",
    "test_FCFP6.columns = [f\"FCFP6_{col}\" for col in filt_feats_FCFP6]\n",
    "test_MACCS.columns = [f\"MACCS_{col}\" for col in filt_feats_MACCS]\n",
    "test_TOPTOR.columns = [f\"TOPTOR_{col}\" for col in filt_feats_TOPTOR]"
   ]
  },
  {
   "cell_type": "code",
   "execution_count": null,
   "id": "a5cdd014",
   "metadata": {},
   "outputs": [],
   "source": [
    "# combine in order of:\n",
    "# train_ATOMPAIR,\n",
    "# train_AVALON,\n",
    "# train_RDK,\n",
    "# train_ECFP4,\n",
    "# train_ECFP6,\n",
    "# train_FCFP4,\n",
    "# train_FCFP6,\n",
    "# train_MACCS,\n",
    "# train_TOPTOR,\n",
    "test_combined = pd.concat([\n",
    "    test_ATOMPAIR,\n",
    "    test_AVALON,\n",
    "    test_RDK,\n",
    "    test_ECFP4,\n",
    "    test_ECFP6,\n",
    "    test_FCFP4,\n",
    "    test_FCFP6,\n",
    "    test_MACCS,\n",
    "    test_TOPTOR\n",
    "], axis=1)"
   ]
  },
  {
   "cell_type": "code",
   "execution_count": null,
   "id": "c8b1ff2e",
   "metadata": {},
   "outputs": [],
   "source": [
    "test_combined"
   ]
  },
  {
   "cell_type": "code",
   "execution_count": null,
   "id": "3456576e",
   "metadata": {},
   "outputs": [],
   "source": [
    "with open(\"../model/COMBINED-5F-VAR-0-1/norm_scaler.pkl\", \"rb\") as f:\n",
    "    norm_scaler = pkl.load(f)\n",
    "test_combined_scaled = norm_scaler.transform(test_combined)\n",
    "test_combined_scaled_df = pd.DataFrame(test_combined_scaled, columns=test_combined.columns)"
   ]
  },
  {
   "cell_type": "code",
   "execution_count": null,
   "id": "6045eba8",
   "metadata": {},
   "outputs": [],
   "source": [
    "model_folds = \"../model/COMBINED-5F-VAR-0-1/folds/\"\n",
    "folds = [\"fold_1\", \"fold_2\", \"fold_3\", \"fold_4\", \"fold_5\"]\n",
    "\n",
    "results = []\n",
    "\n",
    "for fold in tqdm(folds, total=len(folds)):\n",
    "    model_path = f\"{model_folds}{fold}/xgb_COMBINED_2000.pkl\"\n",
    "    with open(model_path, \"rb\") as f:\n",
    "        model = pkl.load(f)\n",
    "\n",
    "    \n",
    "    # model.classes_ -> array([0, 1])\n",
    "    \n",
    "    predictions = model.predict(test_combined_scaled_df)\n",
    "\n",
    "    probabilities = model.predict_proba(test_combined_scaled_df)[:, 1] # <- Probability of class 1 (Hit)\n",
    "\n",
    "    fold_results = pd.DataFrame({\n",
    "        \"RandomID\": test_data[\"RandomID\"],\n",
    "        \"prediction\": predictions,\n",
    "        \"probability\": probabilities \n",
    "    })\n",
    "\n",
    "    results.append(fold_results)"
   ]
  },
  {
   "cell_type": "code",
   "execution_count": null,
   "id": "5f2926a8",
   "metadata": {},
   "outputs": [],
   "source": [
    "with open(\"./test-results.pkl\", \"wb\") as f:\n",
    "    pkl.dump(results, f)"
   ]
  },
  {
   "cell_type": "code",
   "execution_count": null,
   "id": "c4d25de9",
   "metadata": {},
   "outputs": [],
   "source": [
    "fold_results"
   ]
  },
  {
   "cell_type": "markdown",
   "id": "b5615a2e",
   "metadata": {},
   "source": [
    "# Submission 2\n",
    "\n",
    "Max of 5 folds"
   ]
  },
  {
   "cell_type": "code",
   "execution_count": null,
   "id": "c1a14fbb",
   "metadata": {},
   "outputs": [],
   "source": [
    "import re\n",
    "\n",
    "def natural_sort_key(s):\n",
    "    return [int(text) if text.isdigit() else text.lower() for text in re.split(r'(\\d+)', s)]"
   ]
  },
  {
   "cell_type": "code",
   "execution_count": null,
   "id": "7a40b9b1",
   "metadata": {},
   "outputs": [],
   "source": [
    "with open(\"./test-results.pkl\", \"rb\") as f:\n",
    "    results_loaded: List[pd.DataFrame] = pkl.load(f)\n",
    "# include only max probability per RandomID from all folds \n",
    "final_predictions_loaded = pd.concat(results_loaded).groupby(\"RandomID\").agg({\n",
    "    \"prediction\": \"max\",\n",
    "    \"probability\": \"max\"\n",
    "})\n",
    "final_predictions_loaded[\"prediction\"] = final_predictions_loaded[\"prediction\"].astype(int)\n",
    "final_predictions_loaded[\"Sel_50\"] = 0\n",
    "top_50_ids = final_predictions_loaded.nlargest(50, 'probability').index\n",
    "final_predictions_loaded.loc[final_predictions_loaded.index.isin(top_50_ids), 'Sel_50'] = 1\n",
    "final_predictions_loaded_ = final_predictions_loaded.rename(columns={\"probability\": \"Score\"}).reset_index()\n",
    "final_predictions_loaded_ = final_predictions_loaded_[[\"RandomID\", \"Sel_50\", \"Score\"]]\n",
    "final_predictions_loaded_ordered = final_predictions_loaded_.sort_values(by=\"RandomID\", key=lambda x: x.map(natural_sort_key))"
   ]
  },
  {
   "cell_type": "code",
   "execution_count": null,
   "id": "8cb49542",
   "metadata": {},
   "outputs": [],
   "source": [
    "final_predictions_loaded_ordered.to_csv(\"../data/Data/STep1Test/step-2-closeness.csv\", index=False)"
   ]
  }
 ],
 "metadata": {
  "kernelspec": {
   "display_name": "dream-target35-python",
   "language": "python",
   "name": "python3"
  },
  "language_info": {
   "codemirror_mode": {
    "name": "ipython",
    "version": 3
   },
   "file_extension": ".py",
   "mimetype": "text/x-python",
   "name": "python",
   "nbconvert_exporter": "python",
   "pygments_lexer": "ipython3",
   "version": "3.12.9"
  }
 },
 "nbformat": 4,
 "nbformat_minor": 5
}

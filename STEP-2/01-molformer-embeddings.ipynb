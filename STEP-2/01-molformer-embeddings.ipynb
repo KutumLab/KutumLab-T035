{
 "cells": [
  {
   "cell_type": "code",
   "execution_count": 1,
   "metadata": {},
   "outputs": [],
   "source": [
    "import numpy as np\n",
    "import pandas as pd\n",
    "from tqdm import tqdm\n",
    "\n",
    "from warnings import filterwarnings\n",
    "filterwarnings(\"ignore\")"
   ]
  },
  {
   "cell_type": "code",
   "execution_count": null,
   "metadata": {},
   "outputs": [
    {
     "name": "stdout",
     "output_type": "stream",
     "text": [
      "GPU available: True\n",
      "GPU Name: NVIDIA RTX A5000\n"
     ]
    }
   ],
   "source": [
    "import torch\n",
    "from transformers import AutoModel, AutoTokenizer\n",
    "\n",
    "print(f\"GPU available: {torch.cuda.is_available()}\")\n",
    "print(f\"GPU Name: {torch.cuda.get_device_name()}\")"
   ]
  },
  {
   "cell_type": "code",
   "execution_count": null,
   "metadata": {},
   "outputs": [],
   "source": [
    "model = AutoModel.from_pretrained(\"../model/Molformer\", deterministic_eval=True, trust_remote_code=True)\n",
    "tokenizer = AutoTokenizer.from_pretrained(\"../model/Molformer\")"
   ]
  },
  {
   "cell_type": "code",
   "execution_count": 6,
   "metadata": {},
   "outputs": [
    {
     "data": {
      "text/plain": [
       "MolformerModel(\n",
       "  (embeddings): MolformerEmbeddings(\n",
       "    (word_embeddings): Embedding(2362, 768, padding_idx=2)\n",
       "    (dropout): Dropout(p=0.2, inplace=False)\n",
       "  )\n",
       "  (encoder): MolformerEncoder(\n",
       "    (layer): ModuleList(\n",
       "      (0-11): 12 x MolformerLayer(\n",
       "        (attention): MolformerAttention(\n",
       "          (self): MolformerSelfAttention(\n",
       "            (query): Linear(in_features=768, out_features=768, bias=True)\n",
       "            (key): Linear(in_features=768, out_features=768, bias=True)\n",
       "            (value): Linear(in_features=768, out_features=768, bias=True)\n",
       "            (rotary_embeddings): MolformerRotaryEmbedding()\n",
       "            (feature_map): MolformerFeatureMap(\n",
       "              (kernel): ReLU()\n",
       "            )\n",
       "          )\n",
       "          (output): MolformerSelfOutput(\n",
       "            (dense): Linear(in_features=768, out_features=768, bias=True)\n",
       "            (LayerNorm): LayerNorm((768,), eps=1e-12, elementwise_affine=True)\n",
       "            (dropout): Dropout(p=0.1, inplace=False)\n",
       "          )\n",
       "        )\n",
       "        (intermediate): MolformerIntermediate(\n",
       "          (dense): Linear(in_features=768, out_features=768, bias=True)\n",
       "          (intermediate_act_fn): GELUActivation()\n",
       "        )\n",
       "        (output): MolformerOutput(\n",
       "          (dense): Linear(in_features=768, out_features=768, bias=True)\n",
       "          (LayerNorm): LayerNorm((768,), eps=1e-12, elementwise_affine=True)\n",
       "          (dropout): Dropout(p=0.1, inplace=False)\n",
       "        )\n",
       "      )\n",
       "    )\n",
       "  )\n",
       "  (LayerNorm): LayerNorm((768,), eps=1e-12, elementwise_affine=True)\n",
       ")"
      ]
     },
     "execution_count": 6,
     "metadata": {},
     "output_type": "execute_result"
    }
   ],
   "source": [
    "model"
   ]
  },
  {
   "cell_type": "code",
   "execution_count": null,
   "metadata": {},
   "outputs": [],
   "source": [
    "# send model to GPU\n",
    "device = \"cuda\"\n",
    "model = model.to(device)"
   ]
  },
  {
   "cell_type": "code",
   "execution_count": null,
   "metadata": {},
   "outputs": [
    {
     "data": {
      "text/plain": [
       "tensor([[-0.4407,  0.3902,  0.7989,  ..., -0.6081, -0.0200,  0.0103],\n",
       "        [ 0.5943,  0.4527,  0.3437,  ...,  0.1520, -0.3464,  0.5590]])"
      ]
     },
     "execution_count": 10,
     "metadata": {},
     "output_type": "execute_result"
    }
   ],
   "source": [
    "# Test\n",
    "smiles = [\"Cn1c(=O)c2c(ncn2C)n(C)c1=O\", \"CC(=O)Oc1ccccc1C(=O)O\"]\n",
    "inputs = tokenizer(smiles, padding=True, return_tensors=\"pt\").to(device)\n",
    "with torch.no_grad():\n",
    "    outputs = model(**inputs)\n",
    "outputs.pooler_output"
   ]
  },
  {
   "cell_type": "markdown",
   "metadata": {},
   "source": [
    "# Data"
   ]
  },
  {
   "cell_type": "code",
   "execution_count": null,
   "metadata": {},
   "outputs": [],
   "source": [
    "def get_molformer_embeddings(smiles):\n",
    "    \"\"\"\n",
    "    Get Molformer embeddings for a list of SMILES strings.\n",
    "    \"\"\"\n",
    "    representations = []\n",
    "\n",
    "    # Batch processing \n",
    "    batch_size = 2048\n",
    "    print(f\"Batch size: {batch_size}\")\n",
    "    for i in tqdm(range(0, len(smiles), batch_size)):\n",
    "        batch = smiles[i:i + batch_size]\n",
    "        batch_input = tokenizer(batch, padding=True, return_tensors=\"pt\").to(device)\n",
    "\n",
    "        with torch.no_grad():\n",
    "            outputs = model(**batch_input)\n",
    "        representations.extend(outputs.pooler_output.cpu().numpy())\n",
    "\n",
    "    representations_df = pd.DataFrame(representations)\n",
    "    representations_df[\"smiles\"] = smiles\n",
    "\n",
    "    return representations_df"
   ]
  },
  {
   "cell_type": "code",
   "execution_count": null,
   "metadata": {},
   "outputs": [],
   "source": [
    "data = pd.read_parquet(\"../data/Data/Step2_TestData_Target2035.parquet\")\n",
    "data = data[\"smiles\"].values.tolist()\n",
    "smiles"
   ]
  },
  {
   "cell_type": "code",
   "execution_count": null,
   "metadata": {},
   "outputs": [],
   "source": [
    "representations_df = get_molformer_embeddings(smiles)\n",
    "with open(\"dream35-molformer-emb.pkl\", \"wb\") as f:\n",
    "    representations_df.to_pickle(f)"
   ]
  },
  {
   "cell_type": "code",
   "execution_count": null,
   "metadata": {},
   "outputs": [],
   "source": [
    "smiles = pd.read_csv(\"../data/Data/14_public_domain_WDR91_ligands.csv\")\n",
    "smiles = smiles[\"smiles\"].values.tolist()\n",
    "\n",
    "representations_df = get_molformer_embeddings(smiles)\n",
    "with open(\"14-ligands-dream35.pkl\", \"wb\") as f:\n",
    "    representations_df.to_pickle(f)"
   ]
  },
  {
   "cell_type": "code",
   "execution_count": null,
   "metadata": {},
   "outputs": [],
   "source": [
    "\n"
   ]
  }
 ],
 "metadata": {
  "kernelspec": {
   "display_name": "molformer",
   "language": "python",
   "name": "python3"
  },
  "language_info": {
   "codemirror_mode": {
    "name": "ipython",
    "version": 3
   },
   "file_extension": ".py",
   "mimetype": "text/x-python",
   "name": "python",
   "nbconvert_exporter": "python",
   "pygments_lexer": "ipython3",
   "version": "3.11.11"
  }
 },
 "nbformat": 4,
 "nbformat_minor": 2
}

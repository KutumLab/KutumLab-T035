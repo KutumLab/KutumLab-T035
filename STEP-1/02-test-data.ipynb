{
 "cells": [
  {
   "cell_type": "code",
   "execution_count": null,
   "id": "a507011b",
   "metadata": {},
   "outputs": [],
   "source": [
    "import re\n",
    "import pandas as pd\n",
    "import numpy as np\n",
    "from xgboost import XGBClassifier\n",
    "import pickle as pkl\n",
    "from tqdm import tqdm\n",
    "from typing import List, Tuple"
   ]
  },
  {
   "cell_type": "code",
   "execution_count": null,
   "id": "0a13b86a",
   "metadata": {},
   "outputs": [],
   "source": [
    "with open(\"../model/COMBINED-5F-VAR-0-1/filt_feats_ATOMPAIR.pkl\", \"rb\") as f:\n",
    "    filt_feats_ATOMPAIR = pkl.load(f)\n",
    "with open(\"../model/COMBINED-5F-VAR-0-1/filt_feats_AVALON.pkl\", \"rb\") as f:\n",
    "    filt_feats_AVALON = pkl.load(f)\n",
    "with open(\"../model/COMBINED-5F-VAR-0-1/filt_feats_RDK.pkl\", \"rb\") as f:\n",
    "    filt_feats_RDK = pkl.load(f)\n",
    "with open(\"../model/COMBINED-5F-VAR-0-1/filt_feats_ECFP4.pkl\", \"rb\") as f:\n",
    "    filt_feats_ECFP4 = pkl.load(f)\n",
    "with open(\"../model/COMBINED-5F-VAR-0-1/filt_feats_ECFP6.pkl\", \"rb\") as f:\n",
    "    filt_feats_ECFP6 = pkl.load(f)\n",
    "with open(\"../model/COMBINED-5F-VAR-0-1/filt_feats_FCFP4.pkl\", \"rb\") as f:\n",
    "    filt_feats_FCFP4 = pkl.load(f)\n",
    "with open(\"../model/COMBINED-5F-VAR-0-1/filt_feats_FCFP6.pkl\", \"rb\") as f:\n",
    "    filt_feats_FCFP6 = pkl.load(f)\n",
    "with open(\"../model/COMBINED-5F-VAR-0-1/filt_feats_MACCS.pkl\", \"rb\") as f:\n",
    "    filt_feats_MACCS = pkl.load(f)\n",
    "with open(\"../model/COMBINED-5F-VAR-0-1/filt_feats_TOPTOR.pkl\", \"rb\") as f:\n",
    "    filt_feats_TOPTOR = pkl.load(f)"
   ]
  },
  {
   "cell_type": "code",
   "execution_count": null,
   "id": "52709b2e",
   "metadata": {},
   "outputs": [],
   "source": [
    "# Load the test data\n",
    "test_data = pd.read_parquet(\"../data/Data/Step1_TestData_Target2035.parquet\")\n",
    "test_data"
   ]
  },
  {
   "cell_type": "code",
   "execution_count": null,
   "id": "dd1bd1d2",
   "metadata": {},
   "outputs": [],
   "source": [
    "def get_df_from_feature_list_comp_indices(data, filt_feats_indices):\n",
    "    # filt_feats_indices: list of integer indices.\n",
    "    processed_rows = []\n",
    "    for row_str in tqdm(data, total=len(data)): # tqdm can be kept if desired\n",
    "        parts = row_str.split(',')\n",
    "        # Select elements by index\n",
    "        selected_parts = [parts[i] for i in filt_feats_indices]\n",
    "        processed_rows.append(selected_parts)\n",
    "    return pd.DataFrame(processed_rows)"
   ]
  },
  {
   "cell_type": "code",
   "execution_count": null,
   "id": "75c12f1b",
   "metadata": {},
   "outputs": [],
   "source": [
    "test_ECFP4 = get_df_from_feature_list_comp_indices(test_data[\"ECFP4\"], filt_feats_ECFP4)\n",
    "test_ECFP6 = get_df_from_feature_list_comp_indices(test_data[\"ECFP6\"], filt_feats_ECFP6)\n",
    "test_FCFP4 = get_df_from_feature_list_comp_indices(test_data[\"FCFP4\"], filt_feats_FCFP4)\n",
    "test_FCFP6 = get_df_from_feature_list_comp_indices(test_data[\"FCFP6\"], filt_feats_FCFP6)\n",
    "test_ATOMPAIR = get_df_from_feature_list_comp_indices(test_data[\"ATOMPAIR\"], filt_feats_ATOMPAIR)\n",
    "test_AVALON = get_df_from_feature_list_comp_indices(test_data[\"AVALON\"], filt_feats_AVALON)\n",
    "test_RDK = get_df_from_feature_list_comp_indices(test_data[\"RDK\"], filt_feats_RDK)\n",
    "test_MACCS = get_df_from_feature_list_comp_indices(test_data[\"MACCS\"], filt_feats_MACCS)\n",
    "test_TOPTOR = get_df_from_feature_list_comp_indices(test_data[\"TOPTOR\"], filt_feats_TOPTOR)"
   ]
  },
  {
   "cell_type": "code",
   "execution_count": null,
   "id": "eab4fee3",
   "metadata": {},
   "outputs": [],
   "source": [
    "test_ECFP4.to_csv(\"../data/Data/STep1Test/test_ECFP4.csv\", index=False)\n",
    "test_ECFP6.to_csv(\"../data/Data/STep1Test/test_ECFP6.csv\", index=False)\n",
    "test_FCFP4.to_csv(\"../data/Data/STep1Test/test_FCFP4.csv\", index=False)\n",
    "test_FCFP6.to_csv(\"../data/Data/STep1Test/test_FCFP6.csv\", index=False)\n",
    "test_ATOMPAIR.to_csv(\"../data/Data/STep1Test/test_ATOMPAIR.csv\", index=False)   \n",
    "test_AVALON.to_csv(\"../data/Data/STep1Test/test_AVALON.csv\", index=False)\n",
    "test_RDK.to_csv(\"../data/Data/STep1Test/test_RDK.csv\", index=False)\n",
    "test_MACCS.to_csv(\"../data/Data/STep1Test/test_MACCS.csv\", index=False)\n",
    "test_TOPTOR.to_csv(\"../data/Data/STep1Test/test_TOPTOR.csv\", index=False)"
   ]
  },
  {
   "cell_type": "code",
   "execution_count": null,
   "id": "b51dfa83",
   "metadata": {},
   "outputs": [],
   "source": [
    "# Rename columns to include feature set names\n",
    "test_ATOMPAIR.columns = [f\"ATOMPAIR_{col}\" for col in filt_feats_ATOMPAIR]\n",
    "test_AVALON.columns = [f\"AVALON_{col}\" for col in filt_feats_AVALON]\n",
    "test_RDK.columns = [f\"RDK_{col}\" for col in filt_feats_RDK]\n",
    "test_ECFP4.columns = [f\"ECFP4_{col}\" for col in filt_feats_ECFP4]\n",
    "test_ECFP6.columns = [f\"ECFP6_{col}\" for col in filt_feats_ECFP6]\n",
    "test_FCFP4.columns = [f\"FCFP4_{col}\" for col in filt_feats_FCFP4]\n",
    "test_FCFP6.columns = [f\"FCFP6_{col}\" for col in filt_feats_FCFP6]\n",
    "test_MACCS.columns = [f\"MACCS_{col}\" for col in filt_feats_MACCS]\n",
    "test_TOPTOR.columns = [f\"TOPTOR_{col}\" for col in filt_feats_TOPTOR]"
   ]
  },
  {
   "cell_type": "code",
   "execution_count": null,
   "id": "a5cdd014",
   "metadata": {},
   "outputs": [],
   "source": [
    "# combine in order of:\n",
    "# train_ATOMPAIR,\n",
    "# train_AVALON,\n",
    "# train_RDK,\n",
    "# train_ECFP4,\n",
    "# train_ECFP6,\n",
    "# train_FCFP4,\n",
    "# train_FCFP6,\n",
    "# train_MACCS,\n",
    "# train_TOPTOR,\n",
    "test_combined = pd.concat([\n",
    "    test_ATOMPAIR,\n",
    "    test_AVALON,\n",
    "    test_RDK,\n",
    "    test_ECFP4,\n",
    "    test_ECFP6,\n",
    "    test_FCFP4,\n",
    "    test_FCFP6,\n",
    "    test_MACCS,\n",
    "    test_TOPTOR\n",
    "], axis=1)"
   ]
  },
  {
   "cell_type": "code",
   "execution_count": null,
   "id": "c8b1ff2e",
   "metadata": {},
   "outputs": [],
   "source": [
    "test_combined"
   ]
  },
  {
   "cell_type": "code",
   "execution_count": null,
   "id": "3456576e",
   "metadata": {},
   "outputs": [],
   "source": [
    "with open(\"../model/COMBINED-5F-VAR-0-1/norm_scaler.pkl\", \"rb\") as f:\n",
    "    norm_scaler = pkl.load(f)\n",
    "test_combined_scaled = norm_scaler.transform(test_combined)\n",
    "test_combined_scaled_df = pd.DataFrame(test_combined_scaled, columns=test_combined.columns)"
   ]
  },
  {
   "cell_type": "code",
   "execution_count": null,
   "id": "6045eba8",
   "metadata": {},
   "outputs": [],
   "source": [
    "# Load the model and make predictions\n",
    "model_folds = \"../model/COMBINED-5F-VAR-0-1/folds/\"\n",
    "folds = [\"fold_1\", \"fold_2\", \"fold_3\", \"fold_4\", \"fold_5\"]\n",
    "\n",
    "results = []\n",
    "\n",
    "for fold in tqdm(folds, total=len(folds)):\n",
    "    model_path = f\"{model_folds}{fold}/xgb_COMBINED_2000.pkl\"\n",
    "    with open(model_path, \"rb\") as f:\n",
    "        model = pkl.load(f)\n",
    "\n",
    "    \n",
    "    # model.classes_ -> array([0, 1])\n",
    "    \n",
    "    predictions = model.predict(test_combined_scaled_df)\n",
    "\n",
    "    probabilities = model.predict_proba(test_combined_scaled_df)[:, 1] # <- Probability of class 1 (Hit)\n",
    "\n",
    "    fold_results = pd.DataFrame({\n",
    "        \"RandomID\": test_data[\"RandomID\"],\n",
    "        \"prediction\": predictions,\n",
    "        \"probability\": probabilities \n",
    "    })\n",
    "\n",
    "    results.append(fold_results)"
   ]
  },
  {
   "cell_type": "code",
   "execution_count": null,
   "id": "5f2926a8",
   "metadata": {},
   "outputs": [],
   "source": [
    "# Save the results\n",
    "with open(\"./test-results.pkl\", \"wb\") as f:\n",
    "    pkl.dump(results, f)"
   ]
  },
  {
   "cell_type": "code",
   "execution_count": null,
   "id": "c4d25de9",
   "metadata": {},
   "outputs": [],
   "source": [
    "fold_results"
   ]
  },
  {
   "cell_type": "markdown",
   "id": "177eb336",
   "metadata": {},
   "source": [
    "# Submission 1\n",
    "\n",
    "Submitted Fold 5"
   ]
  },
  {
   "cell_type": "code",
   "execution_count": null,
   "id": "a87ba315",
   "metadata": {},
   "outputs": [],
   "source": [
    "# Average of predictions and probabilities across folds\n",
    "final_predictions = pd.concat(results).groupby(\"RandomID\").agg({\n",
    "    \"prediction\": \"mean\",\n",
    "    \"probability\": \"mean\"\n",
    "}).reset_index()"
   ]
  },
  {
   "cell_type": "code",
   "execution_count": null,
   "id": "2e1acd4d",
   "metadata": {},
   "outputs": [],
   "source": [
    "# final_predictions['prediction'] is int\n",
    "final_predictions['prediction'] = final_predictions['prediction'].astype(int)\n",
    "final_predictions"
   ]
  },
  {
   "cell_type": "code",
   "execution_count": null,
   "id": "b1f766e2",
   "metadata": {},
   "outputs": [],
   "source": [
    "# Sel_200 binary for top 200 hits\n",
    "final_predictions['Sel_200'] = 0\n",
    "top_200_ids = final_predictions.nlargest(200, 'probability')['RandomID']\n",
    "final_predictions.loc[final_predictions['RandomID'].isin(top_200_ids), 'Sel_200'] = 1\n",
    "final_predictions"
   ]
  },
  {
   "cell_type": "code",
   "execution_count": null,
   "id": "d5c5c50e",
   "metadata": {},
   "outputs": [],
   "source": [
    "# Sel_500 binary for top 500 hits\n",
    "final_predictions['Sel_500'] = 0\n",
    "top_500_ids = final_predictions.nlargest(500, 'probability')['RandomID']\n",
    "final_predictions.loc[final_predictions['RandomID'].isin(top_500_ids), 'Sel_500'] = 1\n",
    "final_predictions"
   ]
  },
  {
   "cell_type": "code",
   "execution_count": null,
   "id": "4e1048c7",
   "metadata": {},
   "outputs": [],
   "source": [
    "# rename \"probabilities\" to \"Score\"\n",
    "final_predictions.rename(columns={\"probability\": \"Score\"}, inplace=True)\n",
    "# Save the final predictions to a CSV file\n",
    "final_predictions.to_csv(\"../data/Data/STep1Test/final_predictions.csv\", index=False)"
   ]
  },
  {
   "cell_type": "code",
   "execution_count": null,
   "id": "5ab42511",
   "metadata": {},
   "outputs": [],
   "source": [
    "final_predictions_ = final_predictions.drop(columns=[\"prediction\"])\n",
    "final_predictions_\n",
    "# column order = [\"RandomID\", \"Sel_200\", \"Sel_500\", \"Score\"]\n",
    "final_predictions_ordered = final_predictions_[[\"RandomID\", \"Sel_200\", \"Sel_500\", \"Score\"]]\n",
    "final_predictions_ordered"
   ]
  },
  {
   "cell_type": "code",
   "execution_count": null,
   "id": "a170affb",
   "metadata": {},
   "outputs": [],
   "source": [
    "# Natural sort key function to sort by RandomID\n",
    "def natural_sort_key(s):\n",
    "    return [int(text) if text.isdigit() else text.lower() for text in re.split(r'(\\d+)', s)]\n",
    "\n",
    "final_predictions_ordered_ = final_predictions_ordered.sort_values(by=\"RandomID\", key=lambda x: x.map(natural_sort_key))\n",
    "final_predictions_ordered_"
   ]
  },
  {
   "cell_type": "code",
   "execution_count": null,
   "id": "02c88062",
   "metadata": {},
   "outputs": [],
   "source": [
    "# Quick QC\n",
    "final_predictions_ordered_[final_predictions_ordered_[\"Score\"] > 0.5]"
   ]
  },
  {
   "cell_type": "code",
   "execution_count": null,
   "id": "da2ec2b0",
   "metadata": {},
   "outputs": [],
   "source": [
    "final_predictions_ordered_.to_csv(\"../data/Data/STep1Test/TeamKutumLab-T035.csv\", index=False)"
   ]
  }
 ],
 "metadata": {
  "kernelspec": {
   "display_name": "dream-target35-python",
   "language": "python",
   "name": "python3"
  },
  "language_info": {
   "codemirror_mode": {
    "name": "ipython",
    "version": 3
   },
   "file_extension": ".py",
   "mimetype": "text/x-python",
   "name": "python",
   "nbconvert_exporter": "python",
   "pygments_lexer": "ipython3",
   "version": "3.12.9"
  }
 },
 "nbformat": 4,
 "nbformat_minor": 5
}
